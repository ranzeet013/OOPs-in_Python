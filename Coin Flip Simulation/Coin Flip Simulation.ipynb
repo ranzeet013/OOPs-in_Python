{
 "cells": [
  {
   "cell_type": "code",
   "execution_count": 6,
   "id": "b2745ae2",
   "metadata": {},
   "outputs": [
    {
     "name": "stdout",
     "output_type": "stream",
     "text": [
      "Enter number of flip:7\n",
      "Result of simulation:\n",
      "Head: 5\n",
      "Tail 2\n"
     ]
    }
   ],
   "source": [
    "import random\n",
    "def coin_flip_simulation(num_flips):\n",
    "    head = 0\n",
    "    tail = 0\n",
    "    \n",
    "    for _ in range (num_flips):\n",
    "        flip = random.randint(0, 1)\n",
    "        \n",
    "        if flip == 0:\n",
    "            head += 1\n",
    "        else:\n",
    "            tail += 1\n",
    "    return head, tail\n",
    "num_flips = int(input ('Enter number of flip:'))\n",
    "head_count, tail_count = coin_flip_simulation(num_flips)\n",
    "print('Result of simulation:')\n",
    "print('Head:', head_count)\n",
    "print('Tail', tail_count)"
   ]
  },
  {
   "cell_type": "code",
   "execution_count": null,
   "id": "c8f46a89",
   "metadata": {},
   "outputs": [],
   "source": []
  }
 ],
 "metadata": {
  "kernelspec": {
   "display_name": "Python 3 (ipykernel)",
   "language": "python",
   "name": "python3"
  },
  "language_info": {
   "codemirror_mode": {
    "name": "ipython",
    "version": 3
   },
   "file_extension": ".py",
   "mimetype": "text/x-python",
   "name": "python",
   "nbconvert_exporter": "python",
   "pygments_lexer": "ipython3",
   "version": "3.10.9"
  }
 },
 "nbformat": 4,
 "nbformat_minor": 5
}
