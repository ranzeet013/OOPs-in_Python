{
 "cells": [
  {
   "cell_type": "code",
   "execution_count": 11,
   "id": "7ae99bab",
   "metadata": {},
   "outputs": [
    {
     "name": "stdout",
     "output_type": "stream",
     "text": [
      "Recommended Anime in School genre is:\n",
      "Title: Horimiya\n",
      "Genre: School\n",
      "Episode: 26\n",
      "Rating: 8\n",
      "---------------------------------\n",
      "Title: Oregairu\n",
      "Genre: School\n",
      "Episode: 39\n",
      "Rating: 9\n",
      "---------------------------------\n"
     ]
    }
   ],
   "source": [
    "class Anime:\n",
    "    def __init__(self, title, genre, episode, rating):\n",
    "        self.title = title\n",
    "        self.genre = genre\n",
    "        self.episode = episode\n",
    "        self.rating = rating\n",
    "        \n",
    "    def display_info(self):\n",
    "        print(f\"Title: {self.title}\")\n",
    "        print(f\"Genre: {self.genre}\")\n",
    "        print(f\"Episode: {self.episode}\")\n",
    "        print(f\"Rating: {self.rating}\")\n",
    "        \n",
    "class Anime_Recommendation:\n",
    "    def __init__(self, name):\n",
    "        self.name = name\n",
    "        self.animes = []\n",
    "        \n",
    "    def add_anime(self, anime):\n",
    "        self.animes.append(anime)\n",
    "        \n",
    "    def remove_anime(self, anime):\n",
    "        if anime in self.animes:\n",
    "            self.animes.remove(anime)\n",
    "            \n",
    "    def recommend_anime(self, genre):\n",
    "        recommend_animes = []\n",
    "        for anime in self.animes:\n",
    "            if anime.genre == genre:\n",
    "                recommend_animes.append(anime)\n",
    "        return recommend_animes\n",
    "    \n",
    "    \n",
    "anime_1 = Anime(\"Horimiya\", \"School\", 26, 8)\n",
    "anime_2 = Anime(\"Oregairu\", \"School\", 39, 9)\n",
    "anime_3 = Anime(\"From Me To You\", \"Slice of Life, Romcom, School, Shonen\", 48, 8)\n",
    "anime_4 = Anime(\"One Piece\", \"Action, Drama, Adventure\", 1060, 9.9)\n",
    "\n",
    "recommendation_system = Anime_Recommendation(\"Recommend Anime\")\n",
    "\n",
    "recommendation_system.add_anime(anime_1)\n",
    "recommendation_system.add_anime(anime_2)\n",
    "recommendation_system.add_anime(anime_3)\n",
    "recommendation_system.add_anime(anime_4)\n",
    "\n",
    "recommend_anime = recommendation_system.recommend_anime(\"School\")\n",
    "\n",
    "print(\"Recommended Anime in School genre is:\")\n",
    "for anime in recommend_anime:\n",
    "    anime.display_info()\n",
    "    print(\"---------------------------------\")\n"
   ]
  },
  {
   "cell_type": "code",
   "execution_count": null,
   "id": "67f098fa",
   "metadata": {},
   "outputs": [],
   "source": []
  }
 ],
 "metadata": {
  "kernelspec": {
   "display_name": "Python 3 (ipykernel)",
   "language": "python",
   "name": "python3"
  },
  "language_info": {
   "codemirror_mode": {
    "name": "ipython",
    "version": 3
   },
   "file_extension": ".py",
   "mimetype": "text/x-python",
   "name": "python",
   "nbconvert_exporter": "python",
   "pygments_lexer": "ipython3",
   "version": "3.10.9"
  }
 },
 "nbformat": 4,
 "nbformat_minor": 5
}
