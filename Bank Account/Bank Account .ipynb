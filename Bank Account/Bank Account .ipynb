{
 "cells": [
  {
   "cell_type": "code",
   "execution_count": 21,
   "id": "f11703f1",
   "metadata": {},
   "outputs": [],
   "source": [
    "class bank_account:\n",
    "    def __init__(self, account_number, account_holder_name, initial_balance=0):\n",
    "        self.account_number = account_number\n",
    "        self.account_holder_name = account_holder_name\n",
    "        self.balance = initial_balance\n",
    "\n",
    "    def deposit(self, amount):\n",
    "        if amount > 0:\n",
    "            self.balance += amount\n",
    "            print(\"Deposit successful.\")\n",
    "        else:\n",
    "            print(\"Invalid amount for deposit.\")\n",
    "\n",
    "    def withdraw(self, amount):\n",
    "        if amount > 0:\n",
    "            if amount <= self.balance:\n",
    "                self.balance -= amount\n",
    "                print(\"Withdrawal successful.\")\n",
    "            else:\n",
    "                print(\"Insufficient balance.\")\n",
    "        else:\n",
    "            print(\"Invalid amount for withdrawal.\")\n",
    "\n",
    "    def check_balance(self):\n",
    "        print(\"Account Holder:\", self.account_holder_name)\n",
    "        print(\"Account Number:\", self.account_number)\n",
    "        print(\"Current Balance:\", self.balance)"
   ]
  },
  {
   "cell_type": "code",
   "execution_count": 23,
   "id": "311d7605",
   "metadata": {},
   "outputs": [
    {
     "name": "stdout",
     "output_type": "stream",
     "text": [
      "Account Holder: Ranzeet Raut\n",
      "Account Number: 5127551\n",
      "Current Balance: 0\n",
      "Deposit successful.\n",
      "Account Holder: Ranzeet Raut\n",
      "Account Number: 5127551\n",
      "Current Balance: 5000\n",
      "Withdrawal successful.\n",
      "Account Holder: Ranzeet Raut\n",
      "Account Number: 5127551\n",
      "Current Balance: 2300\n",
      "Withdrawal successful.\n",
      "Account Holder: Ranzeet Raut\n",
      "Account Number: 5127551\n",
      "Current Balance: 1700\n"
     ]
    }
   ],
   "source": [
    "account = bank_account(\"5127551\", \"Ranzeet Raut\")\n",
    "account.check_balance()\n",
    "\n",
    "account.deposit(5000)\n",
    "account.check_balance()\n",
    "\n",
    "account.withdraw(2700)\n",
    "account.check_balance()\n",
    "\n",
    "account.withdraw(600)\n",
    "account.check_balance()"
   ]
  },
  {
   "cell_type": "code",
   "execution_count": null,
   "id": "70acdf74",
   "metadata": {},
   "outputs": [],
   "source": []
  }
 ],
 "metadata": {
  "kernelspec": {
   "display_name": "Python 3 (ipykernel)",
   "language": "python",
   "name": "python3"
  },
  "language_info": {
   "codemirror_mode": {
    "name": "ipython",
    "version": 3
   },
   "file_extension": ".py",
   "mimetype": "text/x-python",
   "name": "python",
   "nbconvert_exporter": "python",
   "pygments_lexer": "ipython3",
   "version": "3.10.9"
  }
 },
 "nbformat": 4,
 "nbformat_minor": 5
}
