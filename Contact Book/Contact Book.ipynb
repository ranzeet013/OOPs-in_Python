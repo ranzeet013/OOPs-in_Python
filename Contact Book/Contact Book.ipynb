{
 "cells": [
  {
   "cell_type": "code",
   "execution_count": 5,
   "id": "f32a4b1f",
   "metadata": {},
   "outputs": [
    {
     "name": "stdout",
     "output_type": "stream",
     "text": [
      "Contact name 'Ranzeet Raut' added to contact list.\n",
      "Contact name 'Yukinoshita Yukino' added to contact list.\n",
      "Contact Book:\n",
      "Name: Ranzeet Raut\n",
      "Phone Number: 988003133\n",
      "Email: ranzeet@gmail.com\n",
      "-------------\n",
      "Name: Yukinoshita Yukino\n",
      "Phone Number: 9876543210\n",
      "Email: callmeyukino@gmail.com\n",
      "-------------\n",
      "Contact 'Yukinoshita Yukino' found:\n",
      "Name: Yukinoshita Yukino\n",
      "Phone Number: 9876543210\n",
      "Email: callmeyukino@gmail.com\n"
     ]
    }
   ],
   "source": [
    "class Contact:\n",
    "    def __init__(self, name, phone_number, email):\n",
    "        self.name = name\n",
    "        self.phone_number = phone_number\n",
    "        self.email = email\n",
    "        \n",
    "    def display_info(self):\n",
    "        print(f\"Name: {self.name}\")\n",
    "        print(f\"Phone Number: {self.phone_number}\")\n",
    "        print(f\"Email: {self.email}\")\n",
    "        \n",
    "class ContactBook:\n",
    "    def __init__(self):\n",
    "        self.contacts = []\n",
    "        \n",
    "    def add_contact(self, contact):\n",
    "        self.contacts.append(contact)\n",
    "        print(f\"Contact name '{contact.name}' added to contact list.\")\n",
    "        \n",
    "    def display_contacts(self):\n",
    "        if not self.contacts:\n",
    "            print(\"Contact book is empty.\")\n",
    "        else:\n",
    "            print(\"Contact Book:\")\n",
    "            for contact in self.contacts:\n",
    "                contact.display_info()\n",
    "                print(\"-------------\")\n",
    "                \n",
    "    def search_contact(self, name):\n",
    "        for contact in self.contacts:\n",
    "            if contact.name.lower() == name.lower():\n",
    "                return contact\n",
    "        return None\n",
    "contact_book = ContactBook()\n",
    "\n",
    "contact1 = Contact(\"Ranzeet Raut\", \"988003133\", \"ranzeet@gmail.com\")\n",
    "contact2 = Contact(\"Yukinoshita Yukino\", \"9876543210\", \"callmeyukino@gmail.com\")\n",
    "\n",
    "contact_book.add_contact(contact1)\n",
    "contact_book.add_contact(contact2)\n",
    "\n",
    "contact_book.display_contacts()\n",
    "\n",
    "search_name = \"Yukinoshita Yukino\"\n",
    "found_contact = contact_book.search_contact(search_name)\n",
    "if found_contact:\n",
    "    print(f\"Contact '{found_contact.name}' found:\")\n",
    "    found_contact.display_info()\n",
    "else:\n",
    "    print(f\"Contact with name '{search_name}' not found in the contact book.\")\n"
   ]
  },
  {
   "cell_type": "code",
   "execution_count": null,
   "id": "4e10583b",
   "metadata": {},
   "outputs": [],
   "source": []
  }
 ],
 "metadata": {
  "kernelspec": {
   "display_name": "Python 3 (ipykernel)",
   "language": "python",
   "name": "python3"
  },
  "language_info": {
   "codemirror_mode": {
    "name": "ipython",
    "version": 3
   },
   "file_extension": ".py",
   "mimetype": "text/x-python",
   "name": "python",
   "nbconvert_exporter": "python",
   "pygments_lexer": "ipython3",
   "version": "3.10.9"
  }
 },
 "nbformat": 4,
 "nbformat_minor": 5
}
