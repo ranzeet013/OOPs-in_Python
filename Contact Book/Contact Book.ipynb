{
 "cells": [
  {
   "cell_type": "code",
   "execution_count": 13,
   "id": "d8a35068",
   "metadata": {},
   "outputs": [
    {
     "name": "stdout",
     "output_type": "stream",
     "text": [
      "Contact 'Alice' added to the contact book.\n",
      "Contact 'Bob' added to the contact book.\n",
      "Contacts in the contact book:\n",
      "Name: Alice\n",
      "Phone Number: 1234567890\n",
      "Email: alice@example.com\n",
      "Name: Bob\n",
      "Phone Number: 9876543210\n",
      "Email: bob@example.com\n",
      "Contact 'Alice' found:\n",
      "Name: Alice\n",
      "Phone Number: 1234567890\n",
      "Email: alice@example.com\n"
     ]
    }
   ],
   "source": [
    "class contact:\n",
    "    def __init__(self, name, phone_number, email):\n",
    "        self.name = name\n",
    "        self.phone_number = phone_number\n",
    "        self.email = email\n",
    "        \n",
    "    def display_info(self):\n",
    "        print(f\"Name :{self.name}\")\n",
    "        print(f\"Phone Number : {self.phone_number}\")\n",
    "        print(f\"Email: {self.email}\")\n",
    "        \n",
    "class ContactBook:\n",
    "    def __init__(self):\n",
    "        self.contact = []\n",
    "        \n",
    "    def add_contact(self, contack):\n",
    "        self.contact,append(contact)\n",
    "        print(f\"Contact name '{contact.name}' added to contact list\")\n",
    "        \n",
    "    def display_contact(self, contact):\n",
    "        if not self.contact:\n",
    "            print(\"Not in contact book\")\n",
    "        else:\n",
    "            print(\"contact is in contact book\")\n",
    "            for contact in self.contact:\n",
    "                contact.display_info()\n",
    "                \n",
    "    def search_contact(self, name):\n",
    "        for contact in self.contact:\n",
    "            if contact.name.lower() == name.lower():\n",
    "                return contact\n",
    "        return None\n",
    "contact_book = Contact_Book()\n",
    "\n",
    "contact1 = Contact(\"Ranzeet Raut\", \"988003133\", \"ranzeet@gmail.com\")\n",
    "contact2 = Contact(\"Yukinoshita Yukino\", \"9876543210\", \"callmeyukino@gmail.com\")\n",
    "\n",
    "contact_book.add_contact(contact1)\n",
    "contact_book.add_contact(contact2)\n",
    "\n",
    "contact_book.display_contacts()\n",
    "\n",
    "search_name = \"Yukinoshi\"\n",
    "found_contact = contact_book.search_contact(search_name)\n",
    "if found_contact:\n",
    "    print(f\"Contact '{found_contact.name}' found:\")\n",
    "    found_contact.display_info()\n",
    "else:\n",
    "    print(f\"Contact with name '{search_name}' not found in the contact book.\")\n",
    "\n",
    "        "
   ]
  }
 ],
 "metadata": {
  "kernelspec": {
   "display_name": "Python 3 (ipykernel)",
   "language": "python",
   "name": "python3"
  },
  "language_info": {
   "codemirror_mode": {
    "name": "ipython",
    "version": 3
   },
   "file_extension": ".py",
   "mimetype": "text/x-python",
   "name": "python",
   "nbconvert_exporter": "python",
   "pygments_lexer": "ipython3",
   "version": "3.10.9"
  }
 },
 "nbformat": 4,
 "nbformat_minor": 5
}
