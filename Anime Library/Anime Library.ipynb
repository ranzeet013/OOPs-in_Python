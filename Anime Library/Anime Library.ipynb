{
 "cells": [
  {
   "cell_type": "code",
   "execution_count": 7,
   "id": "2ce4391a",
   "metadata": {},
   "outputs": [
    {
     "name": "stdout",
     "output_type": "stream",
     "text": [
      "Anime Library: My Anime List\n",
      "----------------------------\n",
      "Title: Horimiya\n",
      "Genre: School, Shonen, RomCom, Slice Of Life\n",
      "Episode: 26\n",
      "---------------------------\n",
      "Title: Oregairu\n",
      "Genre: School, RomCom, Slice Of Life\n",
      "Episode: 39\n",
      "---------------------------\n",
      "Title: Insomaniac After School\n",
      "Genre: School, Slice Of Life, RomCom\n",
      "Episode: 13\n",
      "---------------------------\n",
      "Anime Library: My Anime List\n",
      "----------------------------\n",
      "Title: Horimiya\n",
      "Genre: School, Shonen, RomCom, Slice Of Life\n",
      "Episode: 26\n",
      "---------------------------\n",
      "Title: Oregairu\n",
      "Genre: School, RomCom, Slice Of Life\n",
      "Episode: 39\n",
      "---------------------------\n"
     ]
    }
   ],
   "source": [
    "class Anime:\n",
    "    def __init__(self, title, genre, episode):\n",
    "        self.title = title\n",
    "        self.genre = genre\n",
    "        self.episode = episode\n",
    "        \n",
    "    def display_info(self):\n",
    "        print(f\"Title: {self.title}\")\n",
    "        print(f\"Genre: {self.genre}\")\n",
    "        print(f\"Episode: {self.episode}\")\n",
    "        \n",
    "        \n",
    "class AnimeLibrary:\n",
    "    def __init__(self, name):\n",
    "        self.name = name\n",
    "        self.animes = []\n",
    "        \n",
    "    def add_anime(self, anime):\n",
    "        self.animes.append(anime)\n",
    "        \n",
    "    def remove_anime(self, anime):\n",
    "        if anime in self.animes:\n",
    "            self.animes.remove(anime)\n",
    "        \n",
    "    def display_library(self):\n",
    "        print(f\"Anime Library: {self.name}\")\n",
    "        print(\"----------------------------\")\n",
    "        for anime in self.animes:\n",
    "            anime.display_info()\n",
    "            print(\"---------------------------\")\n",
    "    \n",
    "anime_1 = Anime(\"Horimiya\", \"School, Shonen, RomCom, Slice Of Life\", 26)\n",
    "anime_2 = Anime(\"Oregairu\", \"School, RomCom, Slice Of Life\", 39)\n",
    "anime_3 = Anime(\"Insomaniac After School\", \"School, Slice Of Life, RomCom\", 13)\n",
    "\n",
    "library = AnimeLibrary(\"My Anime List\")\n",
    "\n",
    "library.add_anime(anime_1)\n",
    "library.add_anime(anime_2)\n",
    "library.add_anime(anime_3)\n",
    "\n",
    "library.display_library()\n",
    "\n",
    "library.remove_anime(anime_3)\n",
    "\n",
    "library.display_library()\n"
   ]
  },
  {
   "cell_type": "code",
   "execution_count": null,
   "id": "8ad17853",
   "metadata": {},
   "outputs": [],
   "source": []
  }
 ],
 "metadata": {
  "kernelspec": {
   "display_name": "Python 3 (ipykernel)",
   "language": "python",
   "name": "python3"
  },
  "language_info": {
   "codemirror_mode": {
    "name": "ipython",
    "version": 3
   },
   "file_extension": ".py",
   "mimetype": "text/x-python",
   "name": "python",
   "nbconvert_exporter": "python",
   "pygments_lexer": "ipython3",
   "version": "3.10.9"
  }
 },
 "nbformat": 4,
 "nbformat_minor": 5
}
